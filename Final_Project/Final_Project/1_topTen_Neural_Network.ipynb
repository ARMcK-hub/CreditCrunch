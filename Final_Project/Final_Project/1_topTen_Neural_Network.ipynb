{
 "cells": [
  {
   "cell_type": "code",
   "execution_count": 1,
   "metadata": {},
   "outputs": [],
   "source": [
    " # Set the seed value for the notebook so the results are reproducible\n",
    "from numpy.random import seed\n",
    "seed(42)\n",
    "import tensorflow\n",
    "tensorflow.keras.__version__\n",
    "import tensorflow as tf\n"
   ]
  },
  {
   "cell_type": "code",
   "execution_count": 2,
   "metadata": {},
   "outputs": [],
   "source": [
    "%matplotlib inline\n",
    "import matplotlib.pyplot as plt\n",
    "import numpy as np\n",
    "import pandas as pd\n",
    "import sklearn\n",
    "import sklearn.datasets"
   ]
  },
  {
   "cell_type": "code",
   "execution_count": 3,
   "metadata": {},
   "outputs": [],
   "source": [
    "cc_df = pd.read_csv('Credit_Data_Revised.csv', encoding = 'utf8')\n"
   ]
  },
  {
   "cell_type": "code",
   "execution_count": 4,
   "metadata": {},
   "outputs": [
    {
     "data": {
      "text/html": [
       "<div>\n",
       "<style scoped>\n",
       "    .dataframe tbody tr th:only-of-type {\n",
       "        vertical-align: middle;\n",
       "    }\n",
       "\n",
       "    .dataframe tbody tr th {\n",
       "        vertical-align: top;\n",
       "    }\n",
       "\n",
       "    .dataframe thead th {\n",
       "        text-align: right;\n",
       "    }\n",
       "</style>\n",
       "<table border=\"1\" class=\"dataframe\">\n",
       "  <thead>\n",
       "    <tr style=\"text-align: right;\">\n",
       "      <th></th>\n",
       "      <th>Checking_Acct_Bal</th>\n",
       "      <th>Loan_Duration</th>\n",
       "      <th>Credit_History</th>\n",
       "      <th>Loan_Amount</th>\n",
       "      <th>Savings_Acct_Bal</th>\n",
       "      <th>Years_Employed</th>\n",
       "      <th>Install_Rate</th>\n",
       "      <th>Years_of Residency</th>\n",
       "      <th>Applicant_Age</th>\n",
       "      <th>Job_Type</th>\n",
       "      <th>DEFAULT</th>\n",
       "    </tr>\n",
       "  </thead>\n",
       "  <tbody>\n",
       "    <tr>\n",
       "      <th>0</th>\n",
       "      <td>0</td>\n",
       "      <td>6</td>\n",
       "      <td>4</td>\n",
       "      <td>1169</td>\n",
       "      <td>4</td>\n",
       "      <td>4</td>\n",
       "      <td>4</td>\n",
       "      <td>4</td>\n",
       "      <td>67</td>\n",
       "      <td>2</td>\n",
       "      <td>0</td>\n",
       "    </tr>\n",
       "    <tr>\n",
       "      <th>1</th>\n",
       "      <td>1</td>\n",
       "      <td>48</td>\n",
       "      <td>2</td>\n",
       "      <td>5951</td>\n",
       "      <td>0</td>\n",
       "      <td>2</td>\n",
       "      <td>2</td>\n",
       "      <td>2</td>\n",
       "      <td>22</td>\n",
       "      <td>2</td>\n",
       "      <td>1</td>\n",
       "    </tr>\n",
       "    <tr>\n",
       "      <th>2</th>\n",
       "      <td>3</td>\n",
       "      <td>12</td>\n",
       "      <td>4</td>\n",
       "      <td>2096</td>\n",
       "      <td>0</td>\n",
       "      <td>3</td>\n",
       "      <td>2</td>\n",
       "      <td>3</td>\n",
       "      <td>49</td>\n",
       "      <td>1</td>\n",
       "      <td>0</td>\n",
       "    </tr>\n",
       "    <tr>\n",
       "      <th>3</th>\n",
       "      <td>0</td>\n",
       "      <td>42</td>\n",
       "      <td>2</td>\n",
       "      <td>7882</td>\n",
       "      <td>0</td>\n",
       "      <td>3</td>\n",
       "      <td>2</td>\n",
       "      <td>4</td>\n",
       "      <td>45</td>\n",
       "      <td>2</td>\n",
       "      <td>0</td>\n",
       "    </tr>\n",
       "    <tr>\n",
       "      <th>4</th>\n",
       "      <td>0</td>\n",
       "      <td>24</td>\n",
       "      <td>3</td>\n",
       "      <td>4870</td>\n",
       "      <td>0</td>\n",
       "      <td>2</td>\n",
       "      <td>3</td>\n",
       "      <td>4</td>\n",
       "      <td>53</td>\n",
       "      <td>2</td>\n",
       "      <td>1</td>\n",
       "    </tr>\n",
       "    <tr>\n",
       "      <th>...</th>\n",
       "      <td>...</td>\n",
       "      <td>...</td>\n",
       "      <td>...</td>\n",
       "      <td>...</td>\n",
       "      <td>...</td>\n",
       "      <td>...</td>\n",
       "      <td>...</td>\n",
       "      <td>...</td>\n",
       "      <td>...</td>\n",
       "      <td>...</td>\n",
       "      <td>...</td>\n",
       "    </tr>\n",
       "    <tr>\n",
       "      <th>995</th>\n",
       "      <td>3</td>\n",
       "      <td>12</td>\n",
       "      <td>2</td>\n",
       "      <td>1736</td>\n",
       "      <td>0</td>\n",
       "      <td>3</td>\n",
       "      <td>3</td>\n",
       "      <td>4</td>\n",
       "      <td>31</td>\n",
       "      <td>1</td>\n",
       "      <td>0</td>\n",
       "    </tr>\n",
       "    <tr>\n",
       "      <th>996</th>\n",
       "      <td>0</td>\n",
       "      <td>30</td>\n",
       "      <td>2</td>\n",
       "      <td>3857</td>\n",
       "      <td>0</td>\n",
       "      <td>2</td>\n",
       "      <td>4</td>\n",
       "      <td>4</td>\n",
       "      <td>40</td>\n",
       "      <td>3</td>\n",
       "      <td>0</td>\n",
       "    </tr>\n",
       "    <tr>\n",
       "      <th>997</th>\n",
       "      <td>3</td>\n",
       "      <td>12</td>\n",
       "      <td>2</td>\n",
       "      <td>804</td>\n",
       "      <td>0</td>\n",
       "      <td>4</td>\n",
       "      <td>4</td>\n",
       "      <td>4</td>\n",
       "      <td>38</td>\n",
       "      <td>2</td>\n",
       "      <td>0</td>\n",
       "    </tr>\n",
       "    <tr>\n",
       "      <th>998</th>\n",
       "      <td>0</td>\n",
       "      <td>45</td>\n",
       "      <td>2</td>\n",
       "      <td>1845</td>\n",
       "      <td>0</td>\n",
       "      <td>2</td>\n",
       "      <td>4</td>\n",
       "      <td>4</td>\n",
       "      <td>23</td>\n",
       "      <td>2</td>\n",
       "      <td>1</td>\n",
       "    </tr>\n",
       "    <tr>\n",
       "      <th>999</th>\n",
       "      <td>1</td>\n",
       "      <td>45</td>\n",
       "      <td>4</td>\n",
       "      <td>4576</td>\n",
       "      <td>1</td>\n",
       "      <td>0</td>\n",
       "      <td>3</td>\n",
       "      <td>4</td>\n",
       "      <td>27</td>\n",
       "      <td>2</td>\n",
       "      <td>0</td>\n",
       "    </tr>\n",
       "  </tbody>\n",
       "</table>\n",
       "<p>1000 rows × 11 columns</p>\n",
       "</div>"
      ],
      "text/plain": [
       "     Checking_Acct_Bal  Loan_Duration  Credit_History  Loan_Amount  \\\n",
       "0                    0              6               4         1169   \n",
       "1                    1             48               2         5951   \n",
       "2                    3             12               4         2096   \n",
       "3                    0             42               2         7882   \n",
       "4                    0             24               3         4870   \n",
       "..                 ...            ...             ...          ...   \n",
       "995                  3             12               2         1736   \n",
       "996                  0             30               2         3857   \n",
       "997                  3             12               2          804   \n",
       "998                  0             45               2         1845   \n",
       "999                  1             45               4         4576   \n",
       "\n",
       "     Savings_Acct_Bal  Years_Employed  Install_Rate  Years_of Residency  \\\n",
       "0                   4               4             4                   4   \n",
       "1                   0               2             2                   2   \n",
       "2                   0               3             2                   3   \n",
       "3                   0               3             2                   4   \n",
       "4                   0               2             3                   4   \n",
       "..                ...             ...           ...                 ...   \n",
       "995                 0               3             3                   4   \n",
       "996                 0               2             4                   4   \n",
       "997                 0               4             4                   4   \n",
       "998                 0               2             4                   4   \n",
       "999                 1               0             3                   4   \n",
       "\n",
       "     Applicant_Age  Job_Type  DEFAULT  \n",
       "0               67         2        0  \n",
       "1               22         2        1  \n",
       "2               49         1        0  \n",
       "3               45         2        0  \n",
       "4               53         2        1  \n",
       "..             ...       ...      ...  \n",
       "995             31         1        0  \n",
       "996             40         3        0  \n",
       "997             38         2        0  \n",
       "998             23         2        1  \n",
       "999             27         2        0  \n",
       "\n",
       "[1000 rows x 11 columns]"
      ]
     },
     "execution_count": 4,
     "metadata": {},
     "output_type": "execute_result"
    }
   ],
   "source": [
    "cc_df.dropna()"
   ]
  },
  {
   "cell_type": "code",
   "execution_count": 5,
   "metadata": {},
   "outputs": [
    {
     "name": "stdout",
     "output_type": "stream",
     "text": [
      "(1000, 10) (1000,)\n"
     ]
    }
   ],
   "source": [
    "X = cc_df.drop(\"DEFAULT\", axis=1)\n",
    "y = cc_df[\"DEFAULT\"]\n",
    "print(X.shape, y.shape)"
   ]
  },
  {
   "cell_type": "code",
   "execution_count": 6,
   "metadata": {},
   "outputs": [],
   "source": [
    "from sklearn.model_selection import train_test_split\n",
    "from sklearn.preprocessing import LabelEncoder, MinMaxScaler\n",
    "from tensorflow.keras.utils import to_categorical"
   ]
  },
  {
   "cell_type": "code",
   "execution_count": 7,
   "metadata": {},
   "outputs": [],
   "source": [
    "X_train, X_test, y_train, y_test = train_test_split(\n",
    "    X, y, test_size=.25)"
   ]
  },
  {
   "cell_type": "code",
   "execution_count": 8,
   "metadata": {},
   "outputs": [],
   "source": [
    "X_scaler = MinMaxScaler().fit(X_train)\n",
    "X_train_scaled = X_scaler.transform(X_train)\n",
    "X_test_scaled = X_scaler.transform(X_test)"
   ]
  },
  {
   "cell_type": "code",
   "execution_count": 9,
   "metadata": {},
   "outputs": [],
   "source": [
    "# Step 1: Label-encode data set\n",
    "label_encoder = LabelEncoder()\n",
    "label_encoder.fit(y_train)\n",
    "encoded_y_train = label_encoder.transform(y_train)\n",
    "encoded_y_test = label_encoder.transform(y_test)"
   ]
  },
  {
   "cell_type": "code",
   "execution_count": 10,
   "metadata": {},
   "outputs": [],
   "source": [
    "# Step 2: Convert encoded labels to one-hot-encoding\n",
    "y_train_categorical = to_categorical(encoded_y_train)\n",
    "y_test_categorical = to_categorical(encoded_y_test)"
   ]
  },
  {
   "cell_type": "code",
   "execution_count": 11,
   "metadata": {},
   "outputs": [],
   "source": [
    "import h5py\n",
    "from tensorflow.keras.models import Sequential\n",
    "from tensorflow.keras.layers import Dense"
   ]
  },
  {
   "cell_type": "code",
   "execution_count": 12,
   "metadata": {},
   "outputs": [],
   "source": [
    "# Create model and add layers\n",
    "model = Sequential()\n",
    "model.add(Dense(units=100, activation='relu', input_dim=10))\n",
    "model.add(Dense(units=100, activation='relu'))\n",
    "model.add(Dense(units=2, activation='softmax'))"
   ]
  },
  {
   "cell_type": "code",
   "execution_count": 13,
   "metadata": {},
   "outputs": [],
   "source": [
    "# Compile and fit the model\n",
    "model.compile(optimizer='adam',\n",
    "              loss='categorical_crossentropy',\n",
    "              metrics=['accuracy'])"
   ]
  },
  {
   "cell_type": "code",
   "execution_count": 14,
   "metadata": {
    "scrolled": true
   },
   "outputs": [
    {
     "name": "stdout",
     "output_type": "stream",
     "text": [
      "Model: \"sequential\"\n",
      "_________________________________________________________________\n",
      "Layer (type)                 Output Shape              Param #   \n",
      "=================================================================\n",
      "dense (Dense)                (None, 100)               1100      \n",
      "_________________________________________________________________\n",
      "dense_1 (Dense)              (None, 100)               10100     \n",
      "_________________________________________________________________\n",
      "dense_2 (Dense)              (None, 2)                 202       \n",
      "=================================================================\n",
      "Total params: 11,402\n",
      "Trainable params: 11,402\n",
      "Non-trainable params: 0\n",
      "_________________________________________________________________\n"
     ]
    }
   ],
   "source": [
    "model.summary()"
   ]
  },
  {
   "cell_type": "code",
   "execution_count": 15,
   "metadata": {
    "scrolled": true
   },
   "outputs": [
    {
     "name": "stdout",
     "output_type": "stream",
     "text": [
      "Train on 750 samples\n",
      "Epoch 1/50\n",
      "750/750 - 0s - loss: 0.5915 - accuracy: 0.6867\n",
      "Epoch 2/50\n",
      "750/750 - 0s - loss: 0.5297 - accuracy: 0.7360\n",
      "Epoch 3/50\n",
      "750/750 - 0s - loss: 0.5110 - accuracy: 0.7320\n",
      "Epoch 4/50\n",
      "750/750 - 0s - loss: 0.4992 - accuracy: 0.7573\n",
      "Epoch 5/50\n",
      "750/750 - 0s - loss: 0.4920 - accuracy: 0.7680\n",
      "Epoch 6/50\n",
      "750/750 - 0s - loss: 0.4877 - accuracy: 0.7680\n",
      "Epoch 7/50\n",
      "750/750 - 0s - loss: 0.4892 - accuracy: 0.7573\n",
      "Epoch 8/50\n",
      "750/750 - 0s - loss: 0.4845 - accuracy: 0.7733\n",
      "Epoch 9/50\n",
      "750/750 - 0s - loss: 0.4817 - accuracy: 0.7600\n",
      "Epoch 10/50\n",
      "750/750 - 0s - loss: 0.4763 - accuracy: 0.7773\n",
      "Epoch 11/50\n",
      "750/750 - 0s - loss: 0.4764 - accuracy: 0.7773\n",
      "Epoch 12/50\n",
      "750/750 - 0s - loss: 0.4825 - accuracy: 0.7760\n",
      "Epoch 13/50\n",
      "750/750 - 0s - loss: 0.4775 - accuracy: 0.7747\n",
      "Epoch 14/50\n",
      "750/750 - 0s - loss: 0.4661 - accuracy: 0.7867\n",
      "Epoch 15/50\n",
      "750/750 - 0s - loss: 0.4752 - accuracy: 0.7867\n",
      "Epoch 16/50\n",
      "750/750 - 0s - loss: 0.4643 - accuracy: 0.7933\n",
      "Epoch 17/50\n",
      "750/750 - 0s - loss: 0.4621 - accuracy: 0.7947\n",
      "Epoch 18/50\n",
      "750/750 - 0s - loss: 0.4574 - accuracy: 0.7893\n",
      "Epoch 19/50\n",
      "750/750 - 0s - loss: 0.4617 - accuracy: 0.7867\n",
      "Epoch 20/50\n",
      "750/750 - 0s - loss: 0.4756 - accuracy: 0.7787\n",
      "Epoch 21/50\n",
      "750/750 - 0s - loss: 0.4608 - accuracy: 0.7800\n",
      "Epoch 22/50\n",
      "750/750 - 0s - loss: 0.4559 - accuracy: 0.7973\n",
      "Epoch 23/50\n",
      "750/750 - 0s - loss: 0.4452 - accuracy: 0.8000\n",
      "Epoch 24/50\n",
      "750/750 - 0s - loss: 0.4431 - accuracy: 0.8013\n",
      "Epoch 25/50\n",
      "750/750 - 0s - loss: 0.4380 - accuracy: 0.8053\n",
      "Epoch 26/50\n",
      "750/750 - 0s - loss: 0.4376 - accuracy: 0.8053\n",
      "Epoch 27/50\n",
      "750/750 - 0s - loss: 0.4359 - accuracy: 0.8053\n",
      "Epoch 28/50\n",
      "750/750 - 0s - loss: 0.4278 - accuracy: 0.8120\n",
      "Epoch 29/50\n",
      "750/750 - 0s - loss: 0.4271 - accuracy: 0.8133\n",
      "Epoch 30/50\n",
      "750/750 - 0s - loss: 0.4241 - accuracy: 0.8053\n",
      "Epoch 31/50\n",
      "750/750 - 0s - loss: 0.4266 - accuracy: 0.8067\n",
      "Epoch 32/50\n",
      "750/750 - 0s - loss: 0.4200 - accuracy: 0.8107\n",
      "Epoch 33/50\n",
      "750/750 - 0s - loss: 0.4133 - accuracy: 0.8160\n",
      "Epoch 34/50\n",
      "750/750 - 0s - loss: 0.4123 - accuracy: 0.8213\n",
      "Epoch 35/50\n",
      "750/750 - 0s - loss: 0.4053 - accuracy: 0.8173\n",
      "Epoch 36/50\n",
      "750/750 - 0s - loss: 0.4039 - accuracy: 0.8187\n",
      "Epoch 37/50\n",
      "750/750 - 0s - loss: 0.4047 - accuracy: 0.8267\n",
      "Epoch 38/50\n",
      "750/750 - 0s - loss: 0.4018 - accuracy: 0.8147\n",
      "Epoch 39/50\n",
      "750/750 - 0s - loss: 0.4034 - accuracy: 0.8227\n",
      "Epoch 40/50\n",
      "750/750 - 0s - loss: 0.3929 - accuracy: 0.8213\n",
      "Epoch 41/50\n",
      "750/750 - 0s - loss: 0.3887 - accuracy: 0.8280\n",
      "Epoch 42/50\n",
      "750/750 - 0s - loss: 0.3848 - accuracy: 0.8307\n",
      "Epoch 43/50\n",
      "750/750 - 0s - loss: 0.3927 - accuracy: 0.8160\n",
      "Epoch 44/50\n",
      "750/750 - 0s - loss: 0.3839 - accuracy: 0.8280\n",
      "Epoch 45/50\n",
      "750/750 - 0s - loss: 0.3751 - accuracy: 0.8387\n",
      "Epoch 46/50\n",
      "750/750 - 0s - loss: 0.3920 - accuracy: 0.8187\n",
      "Epoch 47/50\n",
      "750/750 - 0s - loss: 0.3712 - accuracy: 0.8347\n",
      "Epoch 48/50\n",
      "750/750 - 0s - loss: 0.3685 - accuracy: 0.8307\n",
      "Epoch 49/50\n",
      "750/750 - 0s - loss: 0.3705 - accuracy: 0.8320\n",
      "Epoch 50/50\n",
      "750/750 - 0s - loss: 0.3591 - accuracy: 0.8387\n"
     ]
    },
    {
     "data": {
      "text/plain": [
       "<tensorflow.python.keras.callbacks.History at 0x2448f83af98>"
      ]
     },
     "execution_count": 15,
     "metadata": {},
     "output_type": "execute_result"
    }
   ],
   "source": [
    "model.fit(\n",
    "    X_train_scaled,\n",
    "    y_train_categorical,\n",
    "    epochs=50,\n",
    "    shuffle=True,\n",
    "    verbose=2\n",
    ")"
   ]
  },
  {
   "cell_type": "code",
   "execution_count": 16,
   "metadata": {},
   "outputs": [
    {
     "name": "stdout",
     "output_type": "stream",
     "text": [
      "Normal Neural Network \n",
      "-----------------------\n",
      "250/250 - 0s - loss: 0.5710 - accuracy: 0.7640\n"
     ]
    }
   ],
   "source": [
    "print(f\"Normal Neural Network \")\n",
    "print('-----------------------')\n",
    "model_loss, model_accuracy = model.evaluate(\n",
    "    X_test_scaled, y_test_categorical, verbose=2)\n"
   ]
  },
  {
   "cell_type": "code",
   "execution_count": 17,
   "metadata": {},
   "outputs": [],
   "source": [
    "# SAFE MODEL!!!\n",
    " \n",
    "model.save(\"DEFAULT_model_trained_top_10.h5\")"
   ]
  },
  {
   "cell_type": "code",
   "execution_count": 18,
   "metadata": {},
   "outputs": [],
   "source": [
    "# RELOAD!!!!! MODEL!!! YAYYYYY!!\n",
    "from tensorflow.keras.models import load_model\n",
    "\n",
    "default_model = load_model(\"DEFAULT_model_trained_top_10.h5\")"
   ]
  },
  {
   "cell_type": "code",
   "execution_count": 19,
   "metadata": {
    "scrolled": true
   },
   "outputs": [
    {
     "name": "stdout",
     "output_type": "stream",
     "text": [
      "Better Check that Normal Neural Network!! Twice! \n",
      "-------------------------------------------------\n",
      "250/250 - 0s - loss: 0.5710 - accuracy: 0.7640\n"
     ]
    }
   ],
   "source": [
    "print(f\"Better Check that Normal Neural Network!! Twice! \")\n",
    "print('-------------------------------------------------')\n",
    "model_loss, model_accuracy = default_model.evaluate(\n",
    "    X_test_scaled, y_test_categorical, verbose=2)"
   ]
  },
  {
   "cell_type": "code",
   "execution_count": 20,
   "metadata": {},
   "outputs": [],
   "source": [
    "# Predicting Default OUTCOMES\n",
    "encoded_predictions = default_model.predict_classes(X_test_scaled[:])\n",
    "prediction_labels = label_encoder.inverse_transform(encoded_predictions)"
   ]
  },
  {
   "cell_type": "code",
   "execution_count": 21,
   "metadata": {
    "scrolled": true
   },
   "outputs": [
    {
     "name": "stdout",
     "output_type": "stream",
     "text": [
      "DEFAULT OUTCOME KEY: (DEFAULT YES: 1 , DEFAULt NO: 0 )\n",
      "------------------------------------------------------\n",
      "Predicted Outcome: [1 1 1 0 0 0 0 0 0 0 0 1 0 1 1 0 0 0 0 0 0 0 0 0 0 0 1 0 0 0 0 0 0 0 0 0 0\n",
      " 0 0 1 0 0 0 0 0 0 0 0 0 0 1 0 1 1 0 0 0 0 1 0 0 0 0 0 0 0 0 0 0 0 0 0 0 1\n",
      " 0 1 0 0 0 1 0 0 0 0 0 1 1 1 0 0 0 0 1 1 0 0 0 1 1 0 0 0 0 0 0 0 0 0 0 1 1\n",
      " 0 0 0 0 0 0 0 0 0 0 0 0 0 0 0 1 0 0 0 0 0 0 0 0 0 1 0 0 0 1 0 1 0 0 1 0 0\n",
      " 0 1 0 0 0 0 0 0 0 0 0 0 0 0 1 1 0 0 0 0 0 0 0 0 0 0 0 0 0 0 0 0 0 0 0 0 0\n",
      " 0 1 0 0 0 0 0 0 0 0 0 1 1 1 0 1 0 0 0 0 1 0 0 0 0 0 1 1 0 0 0 0 0 0 0 0 0\n",
      " 0 0 0 0 0 0 0 0 0 0 0 0 0 1 0 0 1 0 1 0 0 0 0 1 0 0 0 1]\n",
      "Actual Outcome: [1, 0, 0, 0, 0, 0, 0, 0, 0, 0, 0, 1, 0, 1, 1, 1, 0, 0, 1, 0, 0, 1, 0, 0, 0, 1, 0, 0, 0, 0, 0, 0, 1, 0, 0, 0, 0, 0, 0, 1, 0, 0, 0, 0, 0, 0, 1, 1, 1, 0, 1, 0, 0, 1, 0, 0, 0, 1, 0, 0, 0, 1, 1, 0, 0, 0, 0, 0, 0, 1, 0, 0, 0, 0, 0, 1, 1, 0, 1, 1, 0, 0, 0, 0, 0, 1, 1, 1, 0, 0, 0, 0, 1, 0, 0, 0, 0, 0, 1, 1, 0, 1, 1, 0, 0, 0, 0, 0, 0, 1, 1, 0, 0, 0, 0, 0, 1, 1, 0, 0, 0, 0, 0, 0, 1, 1, 1, 0, 0, 0, 0, 1, 1, 0, 0, 0, 1, 0, 0, 0, 1, 0, 1, 0, 0, 1, 0, 0, 1, 1, 0, 0, 0, 1, 0, 0, 0, 0, 0, 1, 1, 0, 1, 0, 0, 1, 0, 0, 0, 0, 0, 0, 0, 0, 0, 0, 0, 0, 0, 1, 0, 0, 0, 0, 0, 1, 1, 0, 0, 0, 1, 0, 1, 1, 1, 0, 1, 0, 0, 0, 1, 1, 0, 1, 0, 1, 0, 1, 1, 0, 0, 0, 1, 1, 0, 1, 0, 1, 0, 0, 0, 0, 0, 0, 0, 0, 0, 0, 0, 0, 0, 0, 0, 0, 0, 0, 0, 1, 1, 1, 0, 0, 0, 0, 0, 0, 0, 0, 0, 0]\n"
     ]
    }
   ],
   "source": [
    "print(f\"DEFAULT OUTCOME KEY: (DEFAULT YES: 1 , DEFAULt NO: 0 )\")\n",
    "print(f\"------------------------------------------------------\")\n",
    "print(f\"Predicted Outcome: {prediction_labels}\")\n",
    "print(f\"Actual Outcome: {list(y_test[:])}\")"
   ]
  },
  {
   "cell_type": "code",
   "execution_count": 22,
   "metadata": {},
   "outputs": [
    {
     "name": "stdout",
     "output_type": "stream",
     "text": [
      "[1 1 1 0 0 0 0 0 0 0 0 1 0 1 1 0 0 0 0 0 0 0 0 0 0 0 1 0 0 0 0 0 0 0 0 0 0\n",
      " 0 0 1 0 0 0 0 0 0 0 0 0 0 1 0 1 1 0 0 0 0 1 0 0 0 0 0 0 0 0 0 0 0 0 0 0 1\n",
      " 0 1 0 0 0 1 0 0 0 0 0 1 1 1 0 0 0 0 1 1 0 0 0 1 1 0 0 0 0 0 0 0 0 0 0 1 1\n",
      " 0 0 0 0 0 0 0 0 0 0 0 0 0 0 0 1 0 0 0 0 0 0 0 0 0 1 0 0 0 1 0 1 0 0 1 0 0\n",
      " 0 1 0 0 0 0 0 0 0 0 0 0 0 0 1 1 0 0 0 0 0 0 0 0 0 0 0 0 0 0 0 0 0 0 0 0 0\n",
      " 0 1 0 0 0 0 0 0 0 0 0 1 1 1 0 1 0 0 0 0 1 0 0 0 0 0 1 1 0 0 0 0 0 0 0 0 0\n",
      " 0 0 0 0 0 0 0 0 0 0 0 0 0 1 0 0 1 0 1 0 0 0 0 1 0 0 0 1]\n",
      "[1, 0, 0, 0, 0, 0, 0, 0, 0, 0, 0, 1, 0, 1, 1, 1, 0, 0, 1, 0, 0, 1, 0, 0, 0, 1, 0, 0, 0, 0, 0, 0, 1, 0, 0, 0, 0, 0, 0, 1, 0, 0, 0, 0, 0, 0, 1, 1, 1, 0, 1, 0, 0, 1, 0, 0, 0, 1, 0, 0, 0, 1, 1, 0, 0, 0, 0, 0, 0, 1, 0, 0, 0, 0, 0, 1, 1, 0, 1, 1, 0, 0, 0, 0, 0, 1, 1, 1, 0, 0, 0, 0, 1, 0, 0, 0, 0, 0, 1, 1, 0, 1, 1, 0, 0, 0, 0, 0, 0, 1, 1, 0, 0, 0, 0, 0, 1, 1, 0, 0, 0, 0, 0, 0, 1, 1, 1, 0, 0, 0, 0, 1, 1, 0, 0, 0, 1, 0, 0, 0, 1, 0, 1, 0, 0, 1, 0, 0, 1, 1, 0, 0, 0, 1, 0, 0, 0, 0, 0, 1, 1, 0, 1, 0, 0, 1, 0, 0, 0, 0, 0, 0, 0, 0, 0, 0, 0, 0, 0, 1, 0, 0, 0, 0, 0, 1, 1, 0, 0, 0, 1, 0, 1, 1, 1, 0, 1, 0, 0, 0, 1, 1, 0, 1, 0, 1, 0, 1, 1, 0, 0, 0, 1, 1, 0, 1, 0, 1, 0, 0, 0, 0, 0, 0, 0, 0, 0, 0, 0, 0, 0, 0, 0, 0, 0, 0, 0, 1, 1, 1, 0, 0, 0, 0, 0, 0, 0, 0, 0, 0]\n"
     ]
    }
   ],
   "source": [
    "#SAVE VARIABLES TO PLOT \n",
    "\n",
    "X_predict = prediction_labels\n",
    "print(X_predict)\n",
    "Actual_Outcome= list(y_test[:])\n",
    "print(Actual_Outcome)"
   ]
  },
  {
   "cell_type": "code",
   "execution_count": 23,
   "metadata": {},
   "outputs": [
    {
     "data": {
      "text/html": [
       "<div>\n",
       "<style scoped>\n",
       "    .dataframe tbody tr th:only-of-type {\n",
       "        vertical-align: middle;\n",
       "    }\n",
       "\n",
       "    .dataframe tbody tr th {\n",
       "        vertical-align: top;\n",
       "    }\n",
       "\n",
       "    .dataframe thead th {\n",
       "        text-align: right;\n",
       "    }\n",
       "</style>\n",
       "<table border=\"1\" class=\"dataframe\">\n",
       "  <thead>\n",
       "    <tr style=\"text-align: right;\">\n",
       "      <th></th>\n",
       "      <th>Prediction Acct Default</th>\n",
       "      <th>Actual Acct Default</th>\n",
       "    </tr>\n",
       "  </thead>\n",
       "  <tbody>\n",
       "    <tr>\n",
       "      <th>0</th>\n",
       "      <td>1</td>\n",
       "      <td>1</td>\n",
       "    </tr>\n",
       "    <tr>\n",
       "      <th>1</th>\n",
       "      <td>1</td>\n",
       "      <td>0</td>\n",
       "    </tr>\n",
       "    <tr>\n",
       "      <th>2</th>\n",
       "      <td>1</td>\n",
       "      <td>0</td>\n",
       "    </tr>\n",
       "    <tr>\n",
       "      <th>3</th>\n",
       "      <td>0</td>\n",
       "      <td>0</td>\n",
       "    </tr>\n",
       "    <tr>\n",
       "      <th>4</th>\n",
       "      <td>0</td>\n",
       "      <td>0</td>\n",
       "    </tr>\n",
       "    <tr>\n",
       "      <th>...</th>\n",
       "      <td>...</td>\n",
       "      <td>...</td>\n",
       "    </tr>\n",
       "    <tr>\n",
       "      <th>245</th>\n",
       "      <td>1</td>\n",
       "      <td>0</td>\n",
       "    </tr>\n",
       "    <tr>\n",
       "      <th>246</th>\n",
       "      <td>0</td>\n",
       "      <td>0</td>\n",
       "    </tr>\n",
       "    <tr>\n",
       "      <th>247</th>\n",
       "      <td>0</td>\n",
       "      <td>0</td>\n",
       "    </tr>\n",
       "    <tr>\n",
       "      <th>248</th>\n",
       "      <td>0</td>\n",
       "      <td>0</td>\n",
       "    </tr>\n",
       "    <tr>\n",
       "      <th>249</th>\n",
       "      <td>1</td>\n",
       "      <td>0</td>\n",
       "    </tr>\n",
       "  </tbody>\n",
       "</table>\n",
       "<p>250 rows × 2 columns</p>\n",
       "</div>"
      ],
      "text/plain": [
       "     Prediction Acct Default  Actual Acct Default\n",
       "0                          1                    1\n",
       "1                          1                    0\n",
       "2                          1                    0\n",
       "3                          0                    0\n",
       "4                          0                    0\n",
       "..                       ...                  ...\n",
       "245                        1                    0\n",
       "246                        0                    0\n",
       "247                        0                    0\n",
       "248                        0                    0\n",
       "249                        1                    0\n",
       "\n",
       "[250 rows x 2 columns]"
      ]
     },
     "execution_count": 23,
     "metadata": {},
     "output_type": "execute_result"
    }
   ],
   "source": [
    "approval_df =pd.DataFrame({\"Prediction Acct Default\": X_predict, \"Actual Acct Default\": Actual_Outcome}).reset_index(drop=True)\n",
    "approval_df"
   ]
  },
  {
   "cell_type": "code",
   "execution_count": 24,
   "metadata": {},
   "outputs": [
    {
     "data": {
      "text/html": [
       "<div>\n",
       "<style scoped>\n",
       "    .dataframe tbody tr th:only-of-type {\n",
       "        vertical-align: middle;\n",
       "    }\n",
       "\n",
       "    .dataframe tbody tr th {\n",
       "        vertical-align: top;\n",
       "    }\n",
       "\n",
       "    .dataframe thead th {\n",
       "        text-align: right;\n",
       "    }\n",
       "</style>\n",
       "<table border=\"1\" class=\"dataframe\">\n",
       "  <thead>\n",
       "    <tr style=\"text-align: right;\">\n",
       "      <th></th>\n",
       "      <th>Prediction Acct Default</th>\n",
       "      <th>Actual Acct Default</th>\n",
       "      <th>Approval_Status</th>\n",
       "    </tr>\n",
       "  </thead>\n",
       "  <tbody>\n",
       "    <tr>\n",
       "      <th>0</th>\n",
       "      <td>1</td>\n",
       "      <td>1</td>\n",
       "      <td></td>\n",
       "    </tr>\n",
       "    <tr>\n",
       "      <th>1</th>\n",
       "      <td>1</td>\n",
       "      <td>0</td>\n",
       "      <td></td>\n",
       "    </tr>\n",
       "    <tr>\n",
       "      <th>2</th>\n",
       "      <td>1</td>\n",
       "      <td>0</td>\n",
       "      <td></td>\n",
       "    </tr>\n",
       "    <tr>\n",
       "      <th>3</th>\n",
       "      <td>0</td>\n",
       "      <td>0</td>\n",
       "      <td></td>\n",
       "    </tr>\n",
       "    <tr>\n",
       "      <th>4</th>\n",
       "      <td>0</td>\n",
       "      <td>0</td>\n",
       "      <td></td>\n",
       "    </tr>\n",
       "    <tr>\n",
       "      <th>...</th>\n",
       "      <td>...</td>\n",
       "      <td>...</td>\n",
       "      <td>...</td>\n",
       "    </tr>\n",
       "    <tr>\n",
       "      <th>245</th>\n",
       "      <td>1</td>\n",
       "      <td>0</td>\n",
       "      <td></td>\n",
       "    </tr>\n",
       "    <tr>\n",
       "      <th>246</th>\n",
       "      <td>0</td>\n",
       "      <td>0</td>\n",
       "      <td></td>\n",
       "    </tr>\n",
       "    <tr>\n",
       "      <th>247</th>\n",
       "      <td>0</td>\n",
       "      <td>0</td>\n",
       "      <td></td>\n",
       "    </tr>\n",
       "    <tr>\n",
       "      <th>248</th>\n",
       "      <td>0</td>\n",
       "      <td>0</td>\n",
       "      <td></td>\n",
       "    </tr>\n",
       "    <tr>\n",
       "      <th>249</th>\n",
       "      <td>1</td>\n",
       "      <td>0</td>\n",
       "      <td></td>\n",
       "    </tr>\n",
       "  </tbody>\n",
       "</table>\n",
       "<p>250 rows × 3 columns</p>\n",
       "</div>"
      ],
      "text/plain": [
       "     Prediction Acct Default  Actual Acct Default Approval_Status\n",
       "0                          1                    1                \n",
       "1                          1                    0                \n",
       "2                          1                    0                \n",
       "3                          0                    0                \n",
       "4                          0                    0                \n",
       "..                       ...                  ...             ...\n",
       "245                        1                    0                \n",
       "246                        0                    0                \n",
       "247                        0                    0                \n",
       "248                        0                    0                \n",
       "249                        1                    0                \n",
       "\n",
       "[250 rows x 3 columns]"
      ]
     },
     "execution_count": 24,
     "metadata": {},
     "output_type": "execute_result"
    }
   ],
   "source": [
    "approval_df[\"Approval_Status\"] =\"\"\n",
    "approval_df"
   ]
  },
  {
   "cell_type": "code",
   "execution_count": 25,
   "metadata": {},
   "outputs": [],
   "source": [
    "def Approval_Status(c):\n",
    "    if c['Prediction Acct Default'] & c['Actual Acct Default']== 1:\n",
    "        return 'Denied'\n",
    "    elif c['Prediction Acct Default'] | c['Actual Acct Default']== 0:\n",
    "        return 'Approved'\n",
    "    else:\n",
    "        return 'Pending Further Analysis'"
   ]
  },
  {
   "cell_type": "code",
   "execution_count": 26,
   "metadata": {},
   "outputs": [
    {
     "data": {
      "text/html": [
       "<div>\n",
       "<style scoped>\n",
       "    .dataframe tbody tr th:only-of-type {\n",
       "        vertical-align: middle;\n",
       "    }\n",
       "\n",
       "    .dataframe tbody tr th {\n",
       "        vertical-align: top;\n",
       "    }\n",
       "\n",
       "    .dataframe thead th {\n",
       "        text-align: right;\n",
       "    }\n",
       "</style>\n",
       "<table border=\"1\" class=\"dataframe\">\n",
       "  <thead>\n",
       "    <tr style=\"text-align: right;\">\n",
       "      <th></th>\n",
       "      <th>Prediction Acct Default</th>\n",
       "      <th>Actual Acct Default</th>\n",
       "      <th>Approval_Status</th>\n",
       "    </tr>\n",
       "  </thead>\n",
       "  <tbody>\n",
       "    <tr>\n",
       "      <th>0</th>\n",
       "      <td>1</td>\n",
       "      <td>1</td>\n",
       "      <td>Denied</td>\n",
       "    </tr>\n",
       "    <tr>\n",
       "      <th>1</th>\n",
       "      <td>1</td>\n",
       "      <td>0</td>\n",
       "      <td>Pending Further Analysis</td>\n",
       "    </tr>\n",
       "    <tr>\n",
       "      <th>2</th>\n",
       "      <td>1</td>\n",
       "      <td>0</td>\n",
       "      <td>Pending Further Analysis</td>\n",
       "    </tr>\n",
       "    <tr>\n",
       "      <th>3</th>\n",
       "      <td>0</td>\n",
       "      <td>0</td>\n",
       "      <td>Approved</td>\n",
       "    </tr>\n",
       "    <tr>\n",
       "      <th>4</th>\n",
       "      <td>0</td>\n",
       "      <td>0</td>\n",
       "      <td>Approved</td>\n",
       "    </tr>\n",
       "    <tr>\n",
       "      <th>5</th>\n",
       "      <td>0</td>\n",
       "      <td>0</td>\n",
       "      <td>Approved</td>\n",
       "    </tr>\n",
       "    <tr>\n",
       "      <th>6</th>\n",
       "      <td>0</td>\n",
       "      <td>0</td>\n",
       "      <td>Approved</td>\n",
       "    </tr>\n",
       "    <tr>\n",
       "      <th>7</th>\n",
       "      <td>0</td>\n",
       "      <td>0</td>\n",
       "      <td>Approved</td>\n",
       "    </tr>\n",
       "    <tr>\n",
       "      <th>8</th>\n",
       "      <td>0</td>\n",
       "      <td>0</td>\n",
       "      <td>Approved</td>\n",
       "    </tr>\n",
       "    <tr>\n",
       "      <th>9</th>\n",
       "      <td>0</td>\n",
       "      <td>0</td>\n",
       "      <td>Approved</td>\n",
       "    </tr>\n",
       "    <tr>\n",
       "      <th>10</th>\n",
       "      <td>0</td>\n",
       "      <td>0</td>\n",
       "      <td>Approved</td>\n",
       "    </tr>\n",
       "    <tr>\n",
       "      <th>11</th>\n",
       "      <td>1</td>\n",
       "      <td>1</td>\n",
       "      <td>Denied</td>\n",
       "    </tr>\n",
       "    <tr>\n",
       "      <th>12</th>\n",
       "      <td>0</td>\n",
       "      <td>0</td>\n",
       "      <td>Approved</td>\n",
       "    </tr>\n",
       "    <tr>\n",
       "      <th>13</th>\n",
       "      <td>1</td>\n",
       "      <td>1</td>\n",
       "      <td>Denied</td>\n",
       "    </tr>\n",
       "    <tr>\n",
       "      <th>14</th>\n",
       "      <td>1</td>\n",
       "      <td>1</td>\n",
       "      <td>Denied</td>\n",
       "    </tr>\n",
       "    <tr>\n",
       "      <th>15</th>\n",
       "      <td>0</td>\n",
       "      <td>1</td>\n",
       "      <td>Pending Further Analysis</td>\n",
       "    </tr>\n",
       "    <tr>\n",
       "      <th>16</th>\n",
       "      <td>0</td>\n",
       "      <td>0</td>\n",
       "      <td>Approved</td>\n",
       "    </tr>\n",
       "    <tr>\n",
       "      <th>17</th>\n",
       "      <td>0</td>\n",
       "      <td>0</td>\n",
       "      <td>Approved</td>\n",
       "    </tr>\n",
       "    <tr>\n",
       "      <th>18</th>\n",
       "      <td>0</td>\n",
       "      <td>1</td>\n",
       "      <td>Pending Further Analysis</td>\n",
       "    </tr>\n",
       "    <tr>\n",
       "      <th>19</th>\n",
       "      <td>0</td>\n",
       "      <td>0</td>\n",
       "      <td>Approved</td>\n",
       "    </tr>\n",
       "  </tbody>\n",
       "</table>\n",
       "</div>"
      ],
      "text/plain": [
       "    Prediction Acct Default  Actual Acct Default           Approval_Status\n",
       "0                         1                    1                    Denied\n",
       "1                         1                    0  Pending Further Analysis\n",
       "2                         1                    0  Pending Further Analysis\n",
       "3                         0                    0                  Approved\n",
       "4                         0                    0                  Approved\n",
       "5                         0                    0                  Approved\n",
       "6                         0                    0                  Approved\n",
       "7                         0                    0                  Approved\n",
       "8                         0                    0                  Approved\n",
       "9                         0                    0                  Approved\n",
       "10                        0                    0                  Approved\n",
       "11                        1                    1                    Denied\n",
       "12                        0                    0                  Approved\n",
       "13                        1                    1                    Denied\n",
       "14                        1                    1                    Denied\n",
       "15                        0                    1  Pending Further Analysis\n",
       "16                        0                    0                  Approved\n",
       "17                        0                    0                  Approved\n",
       "18                        0                    1  Pending Further Analysis\n",
       "19                        0                    0                  Approved"
      ]
     },
     "execution_count": 26,
     "metadata": {},
     "output_type": "execute_result"
    }
   ],
   "source": [
    "approval_df[\"Approval_Status\"] =approval_df.apply(Approval_Status,axis=1)\n",
    "approval_df.head(20)"
   ]
  },
  {
   "cell_type": "code",
   "execution_count": 27,
   "metadata": {},
   "outputs": [
    {
     "data": {
      "text/plain": [
       "Approved                    162\n",
       "Pending Further Analysis     59\n",
       "Denied                       29\n",
       "Name: Approval_Status, dtype: int64"
      ]
     },
     "execution_count": 27,
     "metadata": {},
     "output_type": "execute_result"
    }
   ],
   "source": [
    "statusValueCount= approval_df[\"Approval_Status\"].value_counts()\n",
    "statusValueCount"
   ]
  },
  {
   "cell_type": "code",
   "execution_count": 28,
   "metadata": {},
   "outputs": [
    {
     "data": {
      "text/plain": [
       "250"
      ]
     },
     "execution_count": 28,
     "metadata": {},
     "output_type": "execute_result"
    }
   ],
   "source": [
    "totalStatusOutcome = len(approval_df[\"Approval_Status\"])\n",
    "totalStatusOutcome"
   ]
  },
  {
   "cell_type": "code",
   "execution_count": 29,
   "metadata": {},
   "outputs": [
    {
     "data": {
      "text/plain": [
       "Approved                    0.648\n",
       "Pending Further Analysis    0.236\n",
       "Denied                      0.116\n",
       "Name: Approval_Status, dtype: float64"
      ]
     },
     "execution_count": 29,
     "metadata": {},
     "output_type": "execute_result"
    }
   ],
   "source": [
    "statusOutcomeRatio = statusValueCount/ totalStatusOutcome\n",
    "statusOutcomeRatio "
   ]
  },
  {
   "cell_type": "code",
   "execution_count": 30,
   "metadata": {},
   "outputs": [
    {
     "data": {
      "text/html": [
       "<div>\n",
       "<style scoped>\n",
       "    .dataframe tbody tr th:only-of-type {\n",
       "        vertical-align: middle;\n",
       "    }\n",
       "\n",
       "    .dataframe tbody tr th {\n",
       "        vertical-align: top;\n",
       "    }\n",
       "\n",
       "    .dataframe thead th {\n",
       "        text-align: right;\n",
       "    }\n",
       "</style>\n",
       "<table border=\"1\" class=\"dataframe\">\n",
       "  <thead>\n",
       "    <tr style=\"text-align: right;\">\n",
       "      <th></th>\n",
       "      <th>Total Predictive Outcomes</th>\n",
       "      <th>Percentage Predictive Outcomes</th>\n",
       "    </tr>\n",
       "  </thead>\n",
       "  <tbody>\n",
       "    <tr>\n",
       "      <th>Approved</th>\n",
       "      <td>162</td>\n",
       "      <td>0.648</td>\n",
       "    </tr>\n",
       "    <tr>\n",
       "      <th>Pending Further Analysis</th>\n",
       "      <td>59</td>\n",
       "      <td>0.236</td>\n",
       "    </tr>\n",
       "    <tr>\n",
       "      <th>Denied</th>\n",
       "      <td>29</td>\n",
       "      <td>0.116</td>\n",
       "    </tr>\n",
       "  </tbody>\n",
       "</table>\n",
       "</div>"
      ],
      "text/plain": [
       "                          Total Predictive Outcomes  \\\n",
       "Approved                                        162   \n",
       "Pending Further Analysis                         59   \n",
       "Denied                                           29   \n",
       "\n",
       "                          Percentage Predictive Outcomes  \n",
       "Approved                                           0.648  \n",
       "Pending Further Analysis                           0.236  \n",
       "Denied                                             0.116  "
      ]
     },
     "execution_count": 30,
     "metadata": {},
     "output_type": "execute_result"
    }
   ],
   "source": [
    "statusRatio_df =pd.DataFrame({\"Total Predictive Outcomes\":statusValueCount,\"Percentage Predictive Outcomes\":statusOutcomeRatio})\n",
    "statusRatio_df"
   ]
  },
  {
   "cell_type": "code",
   "execution_count": 31,
   "metadata": {},
   "outputs": [
    {
     "data": {
      "image/png": "[encoded data removed]",
      "text/plain": [
       "<Figure size 432x288 with 1 Axes>"
      ]
     },
     "metadata": {
      "needs_background": "light"
     },
     "output_type": "display_data"
    }
   ],
   "source": [
    "statusLabel =[\"Approved\",\"Pending Further Analysis\",\"Denied\"]\n",
    "\n",
    "totals= statusRatio_df['Total Predictive Outcomes']\n",
    "\n",
    "barList = plt.bar(statusLabel,totals)\n",
    "#colors \n",
    "barList[0].set_color('blue')\n",
    "barList[1].set_color('lightblue')\n",
    "barList[2].set_color('orange')\n",
    "# Orient widths. Add labels, tick marks, etc. \n",
    "plt.yticks(np.arange(0,200,50))\n",
    "plt.title(\"Total Predictive Outcomes\")\n",
    "plt.xlabel(\"Approval Status\")\n",
    "plt.ylabel(\"Total Result (Based on 250 Data Input)\")\n",
    "plt.grid()\n",
    "\n",
    "# Save the Figure\n",
    "plt.savefig(\"PNG/PNG_SimpleBar.png\")\n",
    "\n",
    "# Show the Figure\n",
    "plt.show()"
   ]
  },
  {
   "cell_type": "code",
   "execution_count": 35,
   "metadata": {
    "scrolled": false
   },
   "outputs": [
    {
     "data": {
      "text/plain": [
       "(array([0, 1, 2]), <a list of 3 Text xticklabel objects>)"
      ]
     },
     "execution_count": 35,
     "metadata": {},
     "output_type": "execute_result"
    },
    {
     "data": {
      "text/plain": [
       "<Figure size 432x288 with 0 Axes>"
      ]
     },
     "metadata": {},
     "output_type": "display_data"
    },
    {
     "data": {
      "image/png": "[encoded data removed]",
      "text/plain": [
       "<Figure size 432x288 with 2 Axes>"
      ]
     },
     "metadata": {
      "needs_background": "light"
     },
     "output_type": "display_data"
    }
   ],
   "source": [
    "# two y-axes, using twinx()\n",
    "\n",
    "# statusRatio_df[[\"Total Predictive Outcomes\",\"Percentage Predictive Outcomes\"]].plot(kind='bar', use_index=True)\n",
    "# statusRatio_df[[\"Total Predictive Outcomes\",\"Percentage Predictive Outcomes\"]].plot(kind='line', use_index=True)\n",
    "import matplotlib.pyplot as plt\n",
    "fig = plt.figure()\n",
    "ax = statusRatio_df[[\"Total Predictive Outcomes\"]].plot(kind='bar',color= \"lightblue\", use_index=True)\n",
    "ax2 = ax.twinx()\n",
    "ax2.plot(ax.get_xticks(),\n",
    "         statusRatio_df[[\"Percentage Predictive Outcomes\"]].values,\n",
    "         linestyle='-',\n",
    "         marker='o', linewidth=2.0,color= \"blue\")\n",
    "# Orient widths. Add labels, tick marks, etc. \n",
    "\n",
    "plt.title(\"Total Predictive Outcomes(Bar)/Percentage Predictive Outcomes(Line)\")\n",
    "plt.xlabel(\"Approval Status\")\n",
    "plt.ylabel(\"% Predictive on linePlot\")\n",
    "plt.xticks(rotation=70)\n",
    "# plt.savefig(\"PNG_barChart_lineChart_2axesForY.png\")"
   ]
  },
  {
   "cell_type": "code",
   "execution_count": 36,
   "metadata": {
    "scrolled": false
   },
   "outputs": [
    {
     "data": {
      "text/plain": [
       "Approved                    64.8%\n",
       "Pending Further Analysis    23.6%\n",
       "Denied                      11.6%\n",
       "Name: Approval_Status, dtype: object"
      ]
     },
     "execution_count": 36,
     "metadata": {},
     "output_type": "execute_result"
    }
   ],
   "source": [
    "statusOutcomeRatio_asObject = ((statusValueCount/ totalStatusOutcome)*100).round(1).astype(str) + '%' \n",
    "statusOutcomeRatio_asObject"
   ]
  },
  {
   "cell_type": "code",
   "execution_count": 37,
   "metadata": {
    "scrolled": true
   },
   "outputs": [
    {
     "name": "stdout",
     "output_type": "stream",
     "text": [
      "                 AGGREGATED PREDICTIVE OUTCOMES DataFrame\n",
      "                _________________________________________\n"
     ]
    },
    {
     "data": {
      "text/html": [
       "<div>\n",
       "<style scoped>\n",
       "    .dataframe tbody tr th:only-of-type {\n",
       "        vertical-align: middle;\n",
       "    }\n",
       "\n",
       "    .dataframe tbody tr th {\n",
       "        vertical-align: top;\n",
       "    }\n",
       "\n",
       "    .dataframe thead th {\n",
       "        text-align: right;\n",
       "    }\n",
       "</style>\n",
       "<table border=\"1\" class=\"dataframe\">\n",
       "  <thead>\n",
       "    <tr style=\"text-align: right;\">\n",
       "      <th></th>\n",
       "      <th>Total Predictive Outcomes</th>\n",
       "      <th>Percentage Predictive Outcomes</th>\n",
       "    </tr>\n",
       "  </thead>\n",
       "  <tbody>\n",
       "    <tr>\n",
       "      <th>Approved</th>\n",
       "      <td>162</td>\n",
       "      <td>64.8%</td>\n",
       "    </tr>\n",
       "    <tr>\n",
       "      <th>Pending Further Analysis</th>\n",
       "      <td>59</td>\n",
       "      <td>23.6%</td>\n",
       "    </tr>\n",
       "    <tr>\n",
       "      <th>Denied</th>\n",
       "      <td>29</td>\n",
       "      <td>11.6%</td>\n",
       "    </tr>\n",
       "  </tbody>\n",
       "</table>\n",
       "</div>"
      ],
      "text/plain": [
       "                          Total Predictive Outcomes  \\\n",
       "Approved                                        162   \n",
       "Pending Further Analysis                         59   \n",
       "Denied                                           29   \n",
       "\n",
       "                         Percentage Predictive Outcomes  \n",
       "Approved                                          64.8%  \n",
       "Pending Further Analysis                          23.6%  \n",
       "Denied                                            11.6%  "
      ]
     },
     "execution_count": 37,
     "metadata": {},
     "output_type": "execute_result"
    }
   ],
   "source": [
    "statusRatio_prettyDF =pd.DataFrame({\"Total Predictive Outcomes\":statusValueCount,\"Percentage Predictive Outcomes\":statusOutcomeRatio_asObject})\n",
    "\n",
    "\n",
    "print('                 AGGREGATED PREDICTIVE OUTCOMES DataFrame')\n",
    "print('                _________________________________________')\n",
    "statusRatio_prettyDF"
   ]
  },
  {
   "cell_type": "code",
   "execution_count": null,
   "metadata": {},
   "outputs": [],
   "source": []
  }
 ],
 "metadata": {
  "kernelspec": {
   "display_name": "Python 3",
   "language": "python",
   "name": "python3"
  },
  "language_info": {
   "codemirror_mode": {
    "name": "ipython",
    "version": 3
   },
   "file_extension": ".py",
   "mimetype": "text/x-python",
   "name": "python",
   "nbconvert_exporter": "python",
   "pygments_lexer": "ipython3",
   "version": "3.6.9"
  }
 },
 "nbformat": 4,
 "nbformat_minor": 2
}
